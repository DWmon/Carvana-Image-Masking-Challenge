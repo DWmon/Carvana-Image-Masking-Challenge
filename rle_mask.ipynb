{
 "cells": [
  {
   "cell_type": "code",
   "execution_count": 1,
   "metadata": {},
   "outputs": [],
   "source": [
    "import os\n",
    "import glob\n",
    "import pandas as pd\n",
    "import numpy as np\n",
    "import cv2\n",
    "import math\n",
    "from keras.preprocessing import image\n",
    "from tqdm import tqdm\n",
    "\n",
    "from model.u_net import unet_128, unet_256, unet_512\n",
    "from data_loader import data_generator"
   ]
  },
  {
   "cell_type": "code",
   "execution_count": 2,
   "metadata": {},
   "outputs": [],
   "source": [
    "def run_length_encode(mask):\n",
    "    flat_mask = mask.flatten()\n",
    "    check = np.where(flat_mask[1:] != flat_mask[:-1])[0] + 1\n",
    "    check[1::2] = check[1::2] - check[:-1:2]\n",
    "    rle = ' '.join([str(i) for i in check])\n",
    "    return rle"
   ]
  },
  {
   "cell_type": "code",
   "execution_count": 3,
   "metadata": {},
   "outputs": [],
   "source": [
    "data_path = 'E:\\carvana_data\\data'\n",
    "test_path = os.path.join(data_path, 'test')\n",
    "test_list = sorted(os.listdir(test_path))\n",
    "test_data = sorted(glob.glob(test_path + '\\*.jpg'))"
   ]
  },
  {
   "cell_type": "code",
   "execution_count": 4,
   "metadata": {},
   "outputs": [],
   "source": [
    "test_ids = []\n",
    "\n",
    "for test_id in test_list:\n",
    "    test_ids.append(test_id.split('.')[0])"
   ]
  },
  {
   "cell_type": "markdown",
   "metadata": {},
   "source": [
    "# 1. RLE Encoding(U Net 128)"
   ]
  },
  {
   "cell_type": "code",
   "execution_count": 5,
   "metadata": {},
   "outputs": [],
   "source": [
    "batch_size = 32\n",
    "img_size = 128\n",
    "original_size = (1918,1280)\n",
    "#test_gen = data_generator(test_data, test_data, batch_size, img_size)\n",
    "\n",
    "model = unet_128()\n",
    "model.load_weights('.\\weights\\model%d\\model%d_best.h5' %(img_size, img_size))"
   ]
  },
  {
   "cell_type": "code",
   "execution_count": 6,
   "metadata": {},
   "outputs": [
    {
     "name": "stderr",
     "output_type": "stream",
     "text": [
      "100%|██████████████████████████████████████████████████████████████████████████████| 3127/3127 [34:06<00:00,  1.53it/s]\n"
     ]
    },
    {
     "name": "stdout",
     "output_type": "stream",
     "text": [
      "Wall time: 34min 6s\n"
     ]
    }
   ],
   "source": [
    "%%time\n",
    "rle_mask = []\n",
    "cycles = math.ceil(len(test_data) / batch_size)\n",
    "img_nums = batch_size\n",
    "num = 0\n",
    "\n",
    "for cycle in tqdm(range(cycles)): \n",
    "    \n",
    "    test_imgs = []\n",
    "    \n",
    "    for img_num in range(img_nums):\n",
    "        test_img = image.load_img(test_data[num], target_size = (img_size, img_size, 3))\n",
    "        test_imgs.append(np.array(test_img) / 255.)\n",
    "        num = num+1\n",
    "        \n",
    "    test_mask = model.predict(np.array(test_imgs))\n",
    "    \n",
    "    for i in range(len(test_mask)):\n",
    "        img = cv2.resize(test_mask[i], original_size)       \n",
    "        mask = img > 0.5\n",
    "        rle = run_length_encode(mask)\n",
    "        rle_mask.append(rle)\n"
   ]
  },
  {
   "cell_type": "code",
   "execution_count": 7,
   "metadata": {},
   "outputs": [],
   "source": [
    "df = pd.DataFrame({'img': test_ids, 'rle_mask': rle_mask})\n",
    "df.to_csv('./submit/submission_model128.csv', index=False)  "
   ]
  },
  {
   "cell_type": "markdown",
   "metadata": {},
   "source": [
    "# 2. RLE Encoding(U Net 256)"
   ]
  },
  {
   "cell_type": "code",
   "execution_count": 12,
   "metadata": {},
   "outputs": [],
   "source": [
    "batch_size = 32\n",
    "img_size = 256\n",
    "original_size = (1918,1280)\n",
    "test_gen = data_generator(test_data, test_data, batch_size, img_size)\n",
    "\n",
    "model = unet_256()\n",
    "model.load_weights('.\\weights\\model%d\\model%d_best.h5' %(img_size, img_size))"
   ]
  },
  {
   "cell_type": "code",
   "execution_count": 13,
   "metadata": {},
   "outputs": [
    {
     "name": "stderr",
     "output_type": "stream",
     "text": [
      "100%|██████████████████████████████████████████████████████████████████████████████| 3127/3127 [40:45<00:00,  1.28it/s]\n"
     ]
    },
    {
     "name": "stdout",
     "output_type": "stream",
     "text": [
      "Wall time: 41min 1s\n"
     ]
    }
   ],
   "source": [
    "rle_mask = []\n",
    "cycles = math.ceil(len(test_data) / batch_size)\n",
    "img_nums = batch_size\n",
    "num = 0\n",
    "\n",
    "for cycle in tqdm(range(cycles)): \n",
    "    \n",
    "    test_imgs = []\n",
    "    \n",
    "    for img_num in range(img_nums):\n",
    "        test_img = image.load_img(test_data[num], target_size = (img_size, img_size, 3))\n",
    "        test_imgs.append(np.array(test_img) / 255.)\n",
    "        num = num+1\n",
    "        \n",
    "    test_mask = model.predict(np.array(test_imgs))\n",
    "    \n",
    "    for i in range(len(test_mask)):\n",
    "        img = cv2.resize(test_mask[i], original_size)       \n",
    "        mask = img > 0.5\n",
    "        rle = run_length_encode(mask)\n",
    "        rle_mask.append(rle)"
   ]
  },
  {
   "cell_type": "code",
   "execution_count": 14,
   "metadata": {},
   "outputs": [],
   "source": [
    "df = pd.DataFrame({'img': test_ids, 'rle_mask': rle_mask})\n",
    "df.to_csv('./submit/submission_model%d.csv' %img_size, index=False)  "
   ]
  }
 ],
 "metadata": {
  "kernelspec": {
   "display_name": "Python 3",
   "language": "python",
   "name": "python3"
  },
  "language_info": {
   "codemirror_mode": {
    "name": "ipython",
    "version": 3
   },
   "file_extension": ".py",
   "mimetype": "text/x-python",
   "name": "python",
   "nbconvert_exporter": "python",
   "pygments_lexer": "ipython3",
   "version": "3.7.4"
  }
 },
 "nbformat": 4,
 "nbformat_minor": 2
}
